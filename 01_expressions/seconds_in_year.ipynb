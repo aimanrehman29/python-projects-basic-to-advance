{
 "cells": [
  {
   "cell_type": "code",
   "execution_count": 3,
   "id": "63526132",
   "metadata": {},
   "outputs": [
    {
     "name": "stdout",
     "output_type": "stream",
     "text": [
      "There are 31536000 seconds in a year!\n"
     ]
    }
   ],
   "source": [
    "def main():\n",
    "  days_per_year = int(365)\n",
    "  hours_per_day = int(24)\n",
    "  min_per_hour = int(60)\n",
    "  sec_per_min = int(60)\n",
    "  second_in_year = days_per_year * hours_per_day * min_per_hour * sec_per_min\n",
    "  print(f\"There are {second_in_year} seconds in a year!\")\n",
    "\n",
    "if __name__ == \"__main__\":\n",
    "  main()"
   ]
  }
 ],
 "metadata": {
  "kernelspec": {
   "display_name": "base",
   "language": "python",
   "name": "python3"
  },
  "language_info": {
   "codemirror_mode": {
    "name": "ipython",
    "version": 3
   },
   "file_extension": ".py",
   "mimetype": "text/x-python",
   "name": "python",
   "nbconvert_exporter": "python",
   "pygments_lexer": "ipython3",
   "version": "3.12.3"
  }
 },
 "nbformat": 4,
 "nbformat_minor": 5
}
