{
 "cells": [
  {
   "cell_type": "code",
   "execution_count": 2,
   "id": "2bd5c471",
   "metadata": {},
   "outputs": [],
   "source": [
    "import random "
   ]
  },
  {
   "cell_type": "code",
   "execution_count": 5,
   "id": "a6071d00",
   "metadata": {},
   "outputs": [
    {
     "name": "stdout",
     "output_type": "stream",
     "text": [
      "First die: 3\n",
      "Second die: 2\n",
      "Total of two dice: 5\n"
     ]
    }
   ],
   "source": [
    "def main ():\n",
    "  dice1= random.randint(1, 6)\n",
    "  dice2= random.randint(1, 6)\n",
    "  print(\"First die:\", dice1)\n",
    "  print(\"Second die:\", dice2)\n",
    "  total = dice1 + dice2\n",
    "  print(\"Total of two dice:\",total)\n",
    "\n",
    "if __name__ == '__main__':\n",
    "  main()"
   ]
  }
 ],
 "metadata": {
  "kernelspec": {
   "display_name": "base",
   "language": "python",
   "name": "python3"
  },
  "language_info": {
   "codemirror_mode": {
    "name": "ipython",
    "version": 3
   },
   "file_extension": ".py",
   "mimetype": "text/x-python",
   "name": "python",
   "nbconvert_exporter": "python",
   "pygments_lexer": "ipython3",
   "version": "3.12.3"
  }
 },
 "nbformat": 4,
 "nbformat_minor": 5
}
